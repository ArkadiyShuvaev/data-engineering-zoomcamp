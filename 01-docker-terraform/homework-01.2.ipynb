{
 "cells": [
  {
   "cell_type": "markdown",
   "metadata": {},
   "source": [
    "### Link to homework\n",
    "https://github.com/DataTalksClub/data-engineering-zoomcamp/blob/main/cohorts/2024/01-docker-terraform/homework.md\n"
   ]
  },
  {
   "cell_type": "code",
   "execution_count": 1,
   "metadata": {},
   "outputs": [],
   "source": [
    "import pandas as pd\n",
    "from sqlalchemy import create_engine, text\n",
    "from urllib.parse import quote_plus\n",
    "from time import time"
   ]
  },
  {
   "cell_type": "code",
   "execution_count": 2,
   "metadata": {},
   "outputs": [],
   "source": [
    "trip_data_file_path = \"/workspaces/data-engineering-zoomcamp/data/green_tripdata_2019-10.csv.gz\"\n",
    "green_table_name = \"green_tripdata_2019_10\""
   ]
  },
  {
   "cell_type": "code",
   "execution_count": 3,
   "metadata": {},
   "outputs": [
    {
     "name": "stdout",
     "output_type": "stream",
     "text": [
      "P%40ssw0rd%21\n"
     ]
    }
   ],
   "source": [
    "encoded_password = quote_plus(\"P@ssw0rd!\")\n",
    "print(encoded_password)\n",
    "engine = create_engine(f\"postgresql://postgres:{encoded_password}@db:5432/ny_taxi\")"
   ]
  },
  {
   "cell_type": "code",
   "execution_count": 4,
   "metadata": {},
   "outputs": [
    {
     "data": {
      "text/plain": [
       "<sqlalchemy.engine.base.Connection at 0x7f6650a65f40>"
      ]
     },
     "execution_count": 4,
     "metadata": {},
     "output_type": "execute_result"
    }
   ],
   "source": [
    "engine.connect()"
   ]
  },
  {
   "cell_type": "code",
   "execution_count": 5,
   "metadata": {},
   "outputs": [
    {
     "data": {
      "text/html": [
       "<div>\n",
       "<style scoped>\n",
       "    .dataframe tbody tr th:only-of-type {\n",
       "        vertical-align: middle;\n",
       "    }\n",
       "\n",
       "    .dataframe tbody tr th {\n",
       "        vertical-align: top;\n",
       "    }\n",
       "\n",
       "    .dataframe thead th {\n",
       "        text-align: right;\n",
       "    }\n",
       "</style>\n",
       "<table border=\"1\" class=\"dataframe\">\n",
       "  <thead>\n",
       "    <tr style=\"text-align: right;\">\n",
       "      <th></th>\n",
       "      <th>VendorID</th>\n",
       "      <th>lpep_pickup_datetime</th>\n",
       "      <th>lpep_dropoff_datetime</th>\n",
       "      <th>store_and_fwd_flag</th>\n",
       "      <th>RatecodeID</th>\n",
       "      <th>PULocationID</th>\n",
       "      <th>DOLocationID</th>\n",
       "      <th>passenger_count</th>\n",
       "      <th>trip_distance</th>\n",
       "      <th>fare_amount</th>\n",
       "      <th>extra</th>\n",
       "      <th>mta_tax</th>\n",
       "      <th>tip_amount</th>\n",
       "      <th>tolls_amount</th>\n",
       "      <th>ehail_fee</th>\n",
       "      <th>improvement_surcharge</th>\n",
       "      <th>total_amount</th>\n",
       "      <th>payment_type</th>\n",
       "      <th>trip_type</th>\n",
       "      <th>congestion_surcharge</th>\n",
       "    </tr>\n",
       "  </thead>\n",
       "  <tbody>\n",
       "    <tr>\n",
       "      <th>0</th>\n",
       "      <td>2</td>\n",
       "      <td>2019-10-01 00:26:02</td>\n",
       "      <td>2019-10-01 00:39:58</td>\n",
       "      <td>N</td>\n",
       "      <td>1.0</td>\n",
       "      <td>112</td>\n",
       "      <td>196</td>\n",
       "      <td>1.0</td>\n",
       "      <td>5.88</td>\n",
       "      <td>18.0</td>\n",
       "      <td>0.5</td>\n",
       "      <td>0.5</td>\n",
       "      <td>0.0</td>\n",
       "      <td>0.0</td>\n",
       "      <td>None</td>\n",
       "      <td>0.3</td>\n",
       "      <td>19.3</td>\n",
       "      <td>2.0</td>\n",
       "      <td>1.0</td>\n",
       "      <td>0.0</td>\n",
       "    </tr>\n",
       "  </tbody>\n",
       "</table>\n",
       "</div>"
      ],
      "text/plain": [
       "   VendorID lpep_pickup_datetime lpep_dropoff_datetime store_and_fwd_flag  \\\n",
       "0         2  2019-10-01 00:26:02   2019-10-01 00:39:58                  N   \n",
       "\n",
       "   RatecodeID  PULocationID  DOLocationID  passenger_count  trip_distance  \\\n",
       "0         1.0           112           196              1.0           5.88   \n",
       "\n",
       "   fare_amount  extra  mta_tax  tip_amount  tolls_amount ehail_fee  \\\n",
       "0         18.0    0.5      0.5         0.0           0.0      None   \n",
       "\n",
       "   improvement_surcharge  total_amount  payment_type  trip_type  \\\n",
       "0                    0.3          19.3           2.0        1.0   \n",
       "\n",
       "   congestion_surcharge  \n",
       "0                   0.0  "
      ]
     },
     "execution_count": 5,
     "metadata": {},
     "output_type": "execute_result"
    }
   ],
   "source": [
    "query = \"\"\"\n",
    "    SELECT *\n",
    "    FROM green_tripdata_2019_10\n",
    "    LIMIT 1\n",
    "\"\"\"\n",
    "\n",
    "pd.read_sql(query, engine)"
   ]
  },
  {
   "cell_type": "markdown",
   "metadata": {},
   "source": [
    "## Question 1. Understanding docker first run \n",
    "\n",
    "Run docker with the `python:3.12.8` image in an interactive mode, use the entrypoint `bash`.\n",
    "\n",
    "What's the version of `pip` in the image?\n",
    "\n",
    "- 24.3.1\n",
    "- 24.2.1\n",
    "- 23.3.1\n",
    "- 23.2.1\n",
    "\n",
    "Answer: Answer: root@3b27cc74845d:/# pip --version\n",
    "pip 24.3.1"
   ]
  },
  {
   "cell_type": "markdown",
   "metadata": {},
   "source": [
    "## Question 2. Understanding Docker networking and docker-compose\n",
    "\n",
    "Given the following `docker-compose.yaml`, what is the `hostname` and `port` that **pgadmin** should use to connect to the postgres database?\n",
    "\n",
    "```yaml\n",
    "services:\n",
    "  db:\n",
    "    container_name: postgres\n",
    "    image: postgres:17-alpine\n",
    "    environment:\n",
    "      POSTGRES_USER: 'postgres'\n",
    "      POSTGRES_PASSWORD: 'postgres'\n",
    "      POSTGRES_DB: 'ny_taxi'\n",
    "    ports:\n",
    "      - '5433:5432'\n",
    "    volumes:\n",
    "      - vol-pgdata:/var/lib/postgresql/data\n",
    "\n",
    "  pgadmin:\n",
    "    container_name: pgadmin\n",
    "    image: dpage/pgadmin4:latest\n",
    "    environment:\n",
    "      PGADMIN_DEFAULT_EMAIL: \"pgadmin@pgadmin.com\"\n",
    "      PGADMIN_DEFAULT_PASSWORD: \"pgadmin\"\n",
    "    ports:\n",
    "      - \"8080:80\"\n",
    "    volumes:\n",
    "      - vol-pgadmin_data:/var/lib/pgadmin  \n",
    "\n",
    "volumes:\n",
    "  vol-pgdata:\n",
    "    name: vol-pgdata\n",
    "  vol-pgadmin_data:\n",
    "    name: vol-pgadmin_data\n",
    "```\n",
    "\n",
    "- postgres:5433\n",
    "- localhost:5432\n",
    "- db:5433\n",
    "- postgres:5432\n",
    "- db:5432\n",
    "\n",
    "Answer: db:5432"
   ]
  },
  {
   "cell_type": "markdown",
   "metadata": {},
   "source": [
    "##  Prepare Postgres\n",
    "\n",
    "Run Postgres and load data as shown in the videos\n",
    "We'll use the green taxi trips from October 2019:\n",
    "\n",
    "```bash\n",
    "wget https://github.com/DataTalksClub/nyc-tlc-data/releases/download/green/green_tripdata_2019-10.csv.gz\n",
    "```\n",
    "\n",
    "You will also need the dataset with zones:\n",
    "\n",
    "```bash\n",
    "wget https://github.com/DataTalksClub/nyc-tlc-data/releases/download/misc/taxi_zone_lookup.csv\n",
    "```\n",
    "\n",
    "Download this data and put it into Postgres.\n",
    "\n",
    "You can use the code from the course. It's up to you whether\n",
    "you want to use Jupyter or a python script."
   ]
  },
  {
   "cell_type": "markdown",
   "metadata": {},
   "source": [
    "## Question 3. Trip Segmentation Count\n",
    "\n",
    "During the period of October 1st 2019 (inclusive) and November 1st 2019 (exclusive), how many trips, **respectively**, happened:\n",
    "1. Up to 1 mile\n",
    "2. In between 1 (exclusive) and 3 miles (inclusive),\n",
    "3. In between 3 (exclusive) and 7 miles (inclusive),\n",
    "4. In between 7 (exclusive) and 10 miles (inclusive),\n",
    "5. Over 10 miles \n",
    "\n",
    "Answers:\n",
    "\n",
    "- 104,802;  197,670;  110,612;  27,831;  35,281\n",
    "- 104,802;  198,924;  109,603;  27,678;  35,189\n",
    "- 104,793;  201,407;  110,612;  27,831;  35,281\n",
    "- 104,793;  202,661;  109,603;  27,678;  35,189\n",
    "- 104,838;  199,013;  109,645;  27,688;  35,202\n",
    "\n",
    "\n",
    "Answer: - 104,802;  198,924;  109,603;  27,678;  35,189\n"
   ]
  },
  {
   "cell_type": "code",
   "execution_count": 6,
   "metadata": {},
   "outputs": [
    {
     "name": "stdout",
     "output_type": "stream",
     "text": [
      "Up to 1:    up_to_1\n",
      "0   104802\n",
      "Between 1 and 3:       gtd\n",
      "0  198924\n",
      "Between 3 and 7:       gtd\n",
      "0  109603\n",
      "Between 7 and 10:      gtd\n",
      "0  27678\n",
      "Over 10:      gtd\n",
      "0  35189\n"
     ]
    }
   ],
   "source": [
    "query = f\"\"\"\n",
    "SELECT\n",
    "  COUNT(GTD_UP_TO_1.trip_distance) AS UP_TO_1\n",
    "FROM green_tripdata_2019_10 AS GTD_UP_TO_1\n",
    "WHERE\n",
    "  GTD_UP_TO_1.\"lpep_pickup_datetime\" >= '2019-10-01 00:00:00'\n",
    "  AND GTD_UP_TO_1.\"lpep_dropoff_datetime\" < '2019-11-01 00:00:00'\n",
    "  AND GTD_UP_TO_1.trip_distance <= 1\n",
    "\"\"\"\n",
    "\n",
    "query_between_1_3 = f\"\"\"\n",
    "SELECT COUNT(GTD.trip_distance) AS GTD\n",
    "FROM green_tripdata_2019_10 AS GTD\n",
    "WHERE\n",
    "  GTD.\"lpep_pickup_datetime\" >= '2019-10-01 00:00:00'\n",
    "  AND GTD.\"lpep_dropoff_datetime\" < '2019-11-01 00:00:00'\n",
    "  AND GTD.trip_distance > 1 AND GTD.trip_distance <= 3\n",
    "\"\"\"\n",
    "\n",
    "query_between_3_7 = f\"\"\"\n",
    "SELECT COUNT(GTD.trip_distance) AS GTD\n",
    "FROM green_tripdata_2019_10 AS GTD\n",
    "WHERE\n",
    "  GTD.\"lpep_pickup_datetime\" >= '2019-10-01 00:00:00'\n",
    "  AND GTD.\"lpep_dropoff_datetime\" < '2019-11-01 00:00:00'\n",
    "  AND GTD.trip_distance > 3 AND GTD.trip_distance <= 7\n",
    "\"\"\"\n",
    "\n",
    "query_between_7_10 = f\"\"\"\n",
    "SELECT COUNT(GTD.trip_distance) AS GTD\n",
    "FROM green_tripdata_2019_10 AS GTD\n",
    "WHERE\n",
    "  GTD.\"lpep_pickup_datetime\" >= '2019-10-01 00:00:00'\n",
    "  AND GTD.\"lpep_dropoff_datetime\" < '2019-11-01 00:00:00'\n",
    "  AND GTD.trip_distance > 7 AND GTD.trip_distance <= 10\n",
    "\"\"\"\n",
    "\n",
    "query_over_10 = f\"\"\"\n",
    "SELECT COUNT(GTD.trip_distance) AS GTD\n",
    "FROM green_tripdata_2019_10 AS GTD\n",
    "WHERE\n",
    "  GTD.\"lpep_pickup_datetime\" >= '2019-10-01 00:00:00'\n",
    "  AND GTD.\"lpep_dropoff_datetime\" < '2019-11-01 00:00:00'\n",
    "  AND GTD.trip_distance > 10\n",
    "\"\"\"\n",
    "\n",
    "print(f\"Up to 1: {pd.read_sql_query(query, engine)}\")\n",
    "print(f\"Between 1 and 3: {pd.read_sql_query(query_between_1_3, engine)}\")\n",
    "print(f\"Between 3 and 7: {pd.read_sql_query(query_between_3_7, engine)}\")\n",
    "print(f\"Between 7 and 10: {pd.read_sql_query(query_between_7_10, engine)}\")\n",
    "print(f\"Over 10: {pd.read_sql_query(query_over_10, engine)}\")"
   ]
  },
  {
   "cell_type": "markdown",
   "metadata": {},
   "source": [
    "## Question 4. Longest trip for each day\n",
    "\n",
    "Which was the pick up day with the longest trip distance?\n",
    "Use the pick up time for your calculations.\n",
    "\n",
    "Tip: For every day, we only care about one single trip with the longest distance. \n",
    "\n",
    "- 2019-10-11\n",
    "- 2019-10-24\n",
    "- 2019-10-26\n",
    "- 2019-10-31"
   ]
  },
  {
   "cell_type": "code",
   "execution_count": 7,
   "metadata": {},
   "outputs": [
    {
     "data": {
      "text/html": [
       "<div>\n",
       "<style scoped>\n",
       "    .dataframe tbody tr th:only-of-type {\n",
       "        vertical-align: middle;\n",
       "    }\n",
       "\n",
       "    .dataframe tbody tr th {\n",
       "        vertical-align: top;\n",
       "    }\n",
       "\n",
       "    .dataframe thead th {\n",
       "        text-align: right;\n",
       "    }\n",
       "</style>\n",
       "<table border=\"1\" class=\"dataframe\">\n",
       "  <thead>\n",
       "    <tr style=\"text-align: right;\">\n",
       "      <th></th>\n",
       "      <th>count</th>\n",
       "    </tr>\n",
       "  </thead>\n",
       "  <tbody>\n",
       "    <tr>\n",
       "      <th>0</th>\n",
       "      <td>476386</td>\n",
       "    </tr>\n",
       "  </tbody>\n",
       "</table>\n",
       "</div>"
      ],
      "text/plain": [
       "    count\n",
       "0  476386"
      ]
     },
     "execution_count": 7,
     "metadata": {},
     "output_type": "execute_result"
    }
   ],
   "source": [
    "query = f\"\"\"\n",
    "SELECT COUNT(*) FROM {green_table_name}\n",
    "\"\"\"\n",
    "\n",
    "pd.read_sql_query(query, engine)"
   ]
  },
  {
   "cell_type": "code",
   "execution_count": 8,
   "metadata": {},
   "outputs": [
    {
     "data": {
      "text/html": [
       "<div>\n",
       "<style scoped>\n",
       "    .dataframe tbody tr th:only-of-type {\n",
       "        vertical-align: middle;\n",
       "    }\n",
       "\n",
       "    .dataframe tbody tr th {\n",
       "        vertical-align: top;\n",
       "    }\n",
       "\n",
       "    .dataframe thead th {\n",
       "        text-align: right;\n",
       "    }\n",
       "</style>\n",
       "<table border=\"1\" class=\"dataframe\">\n",
       "  <thead>\n",
       "    <tr style=\"text-align: right;\">\n",
       "      <th></th>\n",
       "      <th>lpep_pickup_datetime</th>\n",
       "      <th>VendorID</th>\n",
       "      <th>lpep_pickup_datetime</th>\n",
       "      <th>lpep_dropoff_datetime</th>\n",
       "      <th>store_and_fwd_flag</th>\n",
       "      <th>RatecodeID</th>\n",
       "      <th>PULocationID</th>\n",
       "      <th>DOLocationID</th>\n",
       "      <th>passenger_count</th>\n",
       "      <th>trip_distance</th>\n",
       "      <th>...</th>\n",
       "      <th>extra</th>\n",
       "      <th>mta_tax</th>\n",
       "      <th>tip_amount</th>\n",
       "      <th>tolls_amount</th>\n",
       "      <th>ehail_fee</th>\n",
       "      <th>improvement_surcharge</th>\n",
       "      <th>total_amount</th>\n",
       "      <th>payment_type</th>\n",
       "      <th>trip_type</th>\n",
       "      <th>congestion_surcharge</th>\n",
       "    </tr>\n",
       "  </thead>\n",
       "  <tbody>\n",
       "    <tr>\n",
       "      <th>0</th>\n",
       "      <td>2019-10-31 23:23:41</td>\n",
       "      <td>2</td>\n",
       "      <td>2019-10-31 23:23:41</td>\n",
       "      <td>2019-11-01 13:01:07</td>\n",
       "      <td>N</td>\n",
       "      <td>5.0</td>\n",
       "      <td>129</td>\n",
       "      <td>265</td>\n",
       "      <td>1.0</td>\n",
       "      <td>515.89</td>\n",
       "      <td>...</td>\n",
       "      <td>2.75</td>\n",
       "      <td>0.0</td>\n",
       "      <td>0.0</td>\n",
       "      <td>0.0</td>\n",
       "      <td>None</td>\n",
       "      <td>0.3</td>\n",
       "      <td>103.05</td>\n",
       "      <td>2.0</td>\n",
       "      <td>1.0</td>\n",
       "      <td>0.0</td>\n",
       "    </tr>\n",
       "  </tbody>\n",
       "</table>\n",
       "<p>1 rows × 21 columns</p>\n",
       "</div>"
      ],
      "text/plain": [
       "  lpep_pickup_datetime  VendorID lpep_pickup_datetime lpep_dropoff_datetime  \\\n",
       "0  2019-10-31 23:23:41         2  2019-10-31 23:23:41   2019-11-01 13:01:07   \n",
       "\n",
       "  store_and_fwd_flag  RatecodeID  PULocationID  DOLocationID  passenger_count  \\\n",
       "0                  N         5.0           129           265              1.0   \n",
       "\n",
       "   trip_distance  ...  extra  mta_tax  tip_amount  tolls_amount  ehail_fee  \\\n",
       "0         515.89  ...   2.75      0.0         0.0           0.0       None   \n",
       "\n",
       "  improvement_surcharge  total_amount  payment_type  trip_type  \\\n",
       "0                   0.3        103.05           2.0        1.0   \n",
       "\n",
       "   congestion_surcharge  \n",
       "0                   0.0  \n",
       "\n",
       "[1 rows x 21 columns]"
      ]
     },
     "execution_count": 8,
     "metadata": {},
     "output_type": "execute_result"
    }
   ],
   "source": [
    "query_longest = f\"\"\"\n",
    "SELECT lpep_pickup_datetime, * FROM green_tripdata_2019_10 AS GTD\n",
    "ORDER BY GTD.trip_distance DESC\n",
    "LIMIT 1\n",
    "\"\"\"\n",
    "\n",
    "pd.read_sql_query(query_longest, engine)"
   ]
  },
  {
   "cell_type": "markdown",
   "metadata": {},
   "source": [
    "Answer: the longest trip was on 2019-10-31"
   ]
  },
  {
   "cell_type": "markdown",
   "metadata": {},
   "source": [
    "## Question 5. Three biggest pickup zones\n",
    "\n",
    "Which were the top pickup locations with over 13,000 in\n",
    "`total_amount` (across all trips) for 2019-10-18?\n",
    "\n",
    "Consider only `lpep_pickup_datetime` when filtering by date.\n",
    " \n",
    "- East Harlem North, East Harlem South, Morningside Heights\n",
    "- East Harlem North, Morningside Heights\n",
    "- Morningside Heights, Astoria Park, East Harlem South\n",
    "- Bedford, East Harlem North, Astoria Park"
   ]
  },
  {
   "cell_type": "code",
   "execution_count": 9,
   "metadata": {},
   "outputs": [
    {
     "data": {
      "text/html": [
       "<div>\n",
       "<style scoped>\n",
       "    .dataframe tbody tr th:only-of-type {\n",
       "        vertical-align: middle;\n",
       "    }\n",
       "\n",
       "    .dataframe tbody tr th {\n",
       "        vertical-align: top;\n",
       "    }\n",
       "\n",
       "    .dataframe thead th {\n",
       "        text-align: right;\n",
       "    }\n",
       "</style>\n",
       "<table border=\"1\" class=\"dataframe\">\n",
       "  <thead>\n",
       "    <tr style=\"text-align: right;\">\n",
       "      <th></th>\n",
       "      <th>index</th>\n",
       "      <th>LocationID</th>\n",
       "      <th>Borough</th>\n",
       "      <th>Zone</th>\n",
       "    </tr>\n",
       "  </thead>\n",
       "  <tbody>\n",
       "    <tr>\n",
       "      <th>0</th>\n",
       "      <td>0</td>\n",
       "      <td>1</td>\n",
       "      <td>EWR</td>\n",
       "      <td>Newark Airport</td>\n",
       "    </tr>\n",
       "    <tr>\n",
       "      <th>1</th>\n",
       "      <td>1</td>\n",
       "      <td>2</td>\n",
       "      <td>Queens</td>\n",
       "      <td>Jamaica Bay</td>\n",
       "    </tr>\n",
       "    <tr>\n",
       "      <th>2</th>\n",
       "      <td>2</td>\n",
       "      <td>3</td>\n",
       "      <td>Bronx</td>\n",
       "      <td>Allerton/Pelham Gardens</td>\n",
       "    </tr>\n",
       "    <tr>\n",
       "      <th>3</th>\n",
       "      <td>3</td>\n",
       "      <td>4</td>\n",
       "      <td>Manhattan</td>\n",
       "      <td>Alphabet City</td>\n",
       "    </tr>\n",
       "    <tr>\n",
       "      <th>4</th>\n",
       "      <td>4</td>\n",
       "      <td>5</td>\n",
       "      <td>Staten Island</td>\n",
       "      <td>Arden Heights</td>\n",
       "    </tr>\n",
       "    <tr>\n",
       "      <th>5</th>\n",
       "      <td>5</td>\n",
       "      <td>6</td>\n",
       "      <td>Staten Island</td>\n",
       "      <td>Arrochar/Fort Wadsworth</td>\n",
       "    </tr>\n",
       "    <tr>\n",
       "      <th>6</th>\n",
       "      <td>6</td>\n",
       "      <td>7</td>\n",
       "      <td>Queens</td>\n",
       "      <td>Astoria</td>\n",
       "    </tr>\n",
       "    <tr>\n",
       "      <th>7</th>\n",
       "      <td>7</td>\n",
       "      <td>8</td>\n",
       "      <td>Queens</td>\n",
       "      <td>Astoria Park</td>\n",
       "    </tr>\n",
       "    <tr>\n",
       "      <th>8</th>\n",
       "      <td>8</td>\n",
       "      <td>9</td>\n",
       "      <td>Queens</td>\n",
       "      <td>Auburndale</td>\n",
       "    </tr>\n",
       "    <tr>\n",
       "      <th>9</th>\n",
       "      <td>9</td>\n",
       "      <td>10</td>\n",
       "      <td>Queens</td>\n",
       "      <td>Baisley Park</td>\n",
       "    </tr>\n",
       "  </tbody>\n",
       "</table>\n",
       "</div>"
      ],
      "text/plain": [
       "   index  LocationID        Borough                     Zone\n",
       "0      0           1            EWR           Newark Airport\n",
       "1      1           2         Queens              Jamaica Bay\n",
       "2      2           3          Bronx  Allerton/Pelham Gardens\n",
       "3      3           4      Manhattan            Alphabet City\n",
       "4      4           5  Staten Island            Arden Heights\n",
       "5      5           6  Staten Island  Arrochar/Fort Wadsworth\n",
       "6      6           7         Queens                  Astoria\n",
       "7      7           8         Queens             Astoria Park\n",
       "8      8           9         Queens               Auburndale\n",
       "9      9          10         Queens             Baisley Park"
      ]
     },
     "execution_count": 9,
     "metadata": {},
     "output_type": "execute_result"
    }
   ],
   "source": [
    "query_taxi_zones = f\"\"\"\n",
    "    SELECT *\n",
    "    FROM taxi_zones\n",
    "    LIMIT 10\n",
    "\"\"\"\n",
    "\n",
    "pd.read_sql(query_taxi_zones, engine)"
   ]
  },
  {
   "cell_type": "code",
   "execution_count": 15,
   "metadata": {},
   "outputs": [
    {
     "data": {
      "text/html": [
       "<div>\n",
       "<style scoped>\n",
       "    .dataframe tbody tr th:only-of-type {\n",
       "        vertical-align: middle;\n",
       "    }\n",
       "\n",
       "    .dataframe tbody tr th {\n",
       "        vertical-align: top;\n",
       "    }\n",
       "\n",
       "    .dataframe thead th {\n",
       "        text-align: right;\n",
       "    }\n",
       "</style>\n",
       "<table border=\"1\" class=\"dataframe\">\n",
       "  <thead>\n",
       "    <tr style=\"text-align: right;\">\n",
       "      <th></th>\n",
       "      <th>Zone</th>\n",
       "      <th>total_amount</th>\n",
       "    </tr>\n",
       "  </thead>\n",
       "  <tbody>\n",
       "    <tr>\n",
       "      <th>0</th>\n",
       "      <td>East Harlem North</td>\n",
       "      <td>18686.68</td>\n",
       "    </tr>\n",
       "    <tr>\n",
       "      <th>1</th>\n",
       "      <td>East Harlem South</td>\n",
       "      <td>16797.26</td>\n",
       "    </tr>\n",
       "    <tr>\n",
       "      <th>2</th>\n",
       "      <td>Morningside Heights</td>\n",
       "      <td>13029.79</td>\n",
       "    </tr>\n",
       "    <tr>\n",
       "      <th>3</th>\n",
       "      <td>Bedford</td>\n",
       "      <td>2441.65</td>\n",
       "    </tr>\n",
       "  </tbody>\n",
       "</table>\n",
       "</div>"
      ],
      "text/plain": [
       "                  Zone  total_amount\n",
       "0    East Harlem North      18686.68\n",
       "1    East Harlem South      16797.26\n",
       "2  Morningside Heights      13029.79\n",
       "3              Bedford       2441.65"
      ]
     },
     "execution_count": 15,
     "metadata": {},
     "output_type": "execute_result"
    }
   ],
   "source": [
    "query = f\"\"\"\n",
    "SELECT taxi_zones.\"Zone\", SUM(total_amount) AS total_amount\n",
    "FROM green_tripdata_2019_10 AS GTD\n",
    "INNER JOIN taxi_zones ON GTD.\"PULocationID\" = taxi_zones.\"LocationID\"\n",
    "WHERE GTD.\"lpep_pickup_datetime\" >= '2019-10-18 00:00:00'\n",
    "  AND GTD.\"lpep_pickup_datetime\" <= '2019-10-18 23:59:59'\n",
    "  AND (taxi_zones.\"Zone\" = 'East Harlem North'\n",
    "    OR taxi_zones.\"Zone\" = 'East Harlem South'\n",
    "    OR taxi_zones.\"Zone\" = 'Morningside Heights'\n",
    "    OR taxi_zones.\"Zone\" = 'Astoria Park'\n",
    "    OR taxi_zones.\"Zone\" = 'Bedford')\n",
    "GROUP BY taxi_zones.\"Zone\"\n",
    "ORDER BY SUM(total_amount) DESC\n",
    "\"\"\"\n",
    "# --\n",
    "\n",
    "pd.read_sql(query, engine)"
   ]
  },
  {
   "cell_type": "markdown",
   "metadata": {},
   "source": [
    "Where is \"Astoria Park\"?"
   ]
  },
  {
   "cell_type": "code",
   "execution_count": 18,
   "metadata": {},
   "outputs": [
    {
     "data": {
      "text/html": [
       "<div>\n",
       "<style scoped>\n",
       "    .dataframe tbody tr th:only-of-type {\n",
       "        vertical-align: middle;\n",
       "    }\n",
       "\n",
       "    .dataframe tbody tr th {\n",
       "        vertical-align: top;\n",
       "    }\n",
       "\n",
       "    .dataframe thead th {\n",
       "        text-align: right;\n",
       "    }\n",
       "</style>\n",
       "<table border=\"1\" class=\"dataframe\">\n",
       "  <thead>\n",
       "    <tr style=\"text-align: right;\">\n",
       "      <th></th>\n",
       "      <th>Zone</th>\n",
       "      <th>lpep_pickup_datetime</th>\n",
       "      <th>total_amount</th>\n",
       "    </tr>\n",
       "  </thead>\n",
       "  <tbody>\n",
       "    <tr>\n",
       "      <th>0</th>\n",
       "      <td>Astoria Park</td>\n",
       "      <td>2019-10-26</td>\n",
       "      <td>66.12</td>\n",
       "    </tr>\n",
       "    <tr>\n",
       "      <th>1</th>\n",
       "      <td>Astoria Park</td>\n",
       "      <td>2019-10-20</td>\n",
       "      <td>30.96</td>\n",
       "    </tr>\n",
       "    <tr>\n",
       "      <th>2</th>\n",
       "      <td>Astoria Park</td>\n",
       "      <td>2019-10-19</td>\n",
       "      <td>29.30</td>\n",
       "    </tr>\n",
       "    <tr>\n",
       "      <th>3</th>\n",
       "      <td>Astoria Park</td>\n",
       "      <td>2019-10-31</td>\n",
       "      <td>7.30</td>\n",
       "    </tr>\n",
       "    <tr>\n",
       "      <th>4</th>\n",
       "      <td>Astoria Park</td>\n",
       "      <td>2019-10-25</td>\n",
       "      <td>6.80</td>\n",
       "    </tr>\n",
       "  </tbody>\n",
       "</table>\n",
       "</div>"
      ],
      "text/plain": [
       "           Zone lpep_pickup_datetime  total_amount\n",
       "0  Astoria Park           2019-10-26         66.12\n",
       "1  Astoria Park           2019-10-20         30.96\n",
       "2  Astoria Park           2019-10-19         29.30\n",
       "3  Astoria Park           2019-10-31          7.30\n",
       "4  Astoria Park           2019-10-25          6.80"
      ]
     },
     "execution_count": 18,
     "metadata": {},
     "output_type": "execute_result"
    }
   ],
   "source": [
    "query = f\"\"\"\n",
    "SELECT taxi_zones.\"Zone\", CAST(GTD.\"lpep_pickup_datetime\" AS Date), SUM(total_amount) AS total_amount\n",
    "FROM green_tripdata_2019_10 AS GTD\n",
    "INNER JOIN taxi_zones ON GTD.\"PULocationID\" = taxi_zones.\"LocationID\"\n",
    "WHERE taxi_zones.\"Zone\" = 'Astoria Park'\n",
    "GROUP BY taxi_zones.\"Zone\", CAST(GTD.\"lpep_pickup_datetime\" AS Date)\n",
    "ORDER BY SUM(total_amount) DESC\n",
    "\"\"\"\n",
    "\n",
    "pd.read_sql(query, engine)"
   ]
  },
  {
   "cell_type": "markdown",
   "metadata": {},
   "source": [
    "Answer to question 5 is \"East Harlem North, East Harlem South, Morningside Heights\""
   ]
  },
  {
   "cell_type": "markdown",
   "metadata": {},
   "source": [
    "## Question 6. Largest tip\n",
    "\n",
    "For the passengers picked up in Ocrober 2019 in the zone\n",
    "name \"East Harlem North\" which was the drop off zone that had\n",
    "the largest tip?\n",
    "\n",
    "Note: it's `tip` , not `trip`\n",
    "\n",
    "We need the name of the zone, not the ID.\n",
    "\n",
    "- Yorkville West\n",
    "- JFK Airport\n",
    "- East Harlem North\n",
    "- East Harlem South"
   ]
  },
  {
   "cell_type": "markdown",
   "metadata": {},
   "source": [
    "Lets investigate this zone:"
   ]
  },
  {
   "cell_type": "code",
   "execution_count": 20,
   "metadata": {},
   "outputs": [
    {
     "data": {
      "text/html": [
       "<div>\n",
       "<style scoped>\n",
       "    .dataframe tbody tr th:only-of-type {\n",
       "        vertical-align: middle;\n",
       "    }\n",
       "\n",
       "    .dataframe tbody tr th {\n",
       "        vertical-align: top;\n",
       "    }\n",
       "\n",
       "    .dataframe thead th {\n",
       "        text-align: right;\n",
       "    }\n",
       "</style>\n",
       "<table border=\"1\" class=\"dataframe\">\n",
       "  <thead>\n",
       "    <tr style=\"text-align: right;\">\n",
       "      <th></th>\n",
       "      <th>index</th>\n",
       "      <th>LocationID</th>\n",
       "      <th>Borough</th>\n",
       "      <th>Zone</th>\n",
       "    </tr>\n",
       "  </thead>\n",
       "  <tbody>\n",
       "    <tr>\n",
       "      <th>0</th>\n",
       "      <td>73</td>\n",
       "      <td>74</td>\n",
       "      <td>Manhattan</td>\n",
       "      <td>East Harlem North</td>\n",
       "    </tr>\n",
       "  </tbody>\n",
       "</table>\n",
       "</div>"
      ],
      "text/plain": [
       "   index  LocationID    Borough               Zone\n",
       "0     73          74  Manhattan  East Harlem North"
      ]
     },
     "execution_count": 20,
     "metadata": {},
     "output_type": "execute_result"
    }
   ],
   "source": [
    "query = f\"\"\"\n",
    "SELECT *\n",
    "FROM taxi_zones AS TZ\n",
    "WHERE TZ.\"Zone\" = 'East Harlem North'\n",
    "LIMIT 10\n",
    "\"\"\"\n",
    "\n",
    "pd.read_sql(query, engine)"
   ]
  },
  {
   "cell_type": "markdown",
   "metadata": {},
   "source": [
    "Get the higher tip"
   ]
  },
  {
   "cell_type": "code",
   "execution_count": 22,
   "metadata": {},
   "outputs": [
    {
     "data": {
      "text/html": [
       "<div>\n",
       "<style scoped>\n",
       "    .dataframe tbody tr th:only-of-type {\n",
       "        vertical-align: middle;\n",
       "    }\n",
       "\n",
       "    .dataframe tbody tr th {\n",
       "        vertical-align: top;\n",
       "    }\n",
       "\n",
       "    .dataframe thead th {\n",
       "        text-align: right;\n",
       "    }\n",
       "</style>\n",
       "<table border=\"1\" class=\"dataframe\">\n",
       "  <thead>\n",
       "    <tr style=\"text-align: right;\">\n",
       "      <th></th>\n",
       "      <th>DOLocationID</th>\n",
       "    </tr>\n",
       "  </thead>\n",
       "  <tbody>\n",
       "    <tr>\n",
       "      <th>0</th>\n",
       "      <td>132</td>\n",
       "    </tr>\n",
       "  </tbody>\n",
       "</table>\n",
       "</div>"
      ],
      "text/plain": [
       "   DOLocationID\n",
       "0           132"
      ]
     },
     "execution_count": 22,
     "metadata": {},
     "output_type": "execute_result"
    }
   ],
   "source": [
    "query = f\"\"\"\n",
    "SELECT GTD.\"DOLocationID\"\n",
    "FROM green_tripdata_2019_10 AS GTD\n",
    "INNER JOIN taxi_zones AS TZ ON GTD.\"PULocationID\" = TZ.\"LocationID\"\n",
    "WHERE TZ.\"Zone\" = 'East Harlem North'\n",
    "ORDER BY GTD.\"tip_amount\" DESC\n",
    "LIMIT 1\n",
    "\"\"\"\n",
    "\n",
    "pd.read_sql(query, engine)"
   ]
  },
  {
   "cell_type": "code",
   "execution_count": 25,
   "metadata": {},
   "outputs": [
    {
     "name": "stdout",
     "output_type": "stream",
     "text": [
      "Answer to question 6:           Zone\n",
      "0  JFK Airport\n"
     ]
    }
   ],
   "source": [
    "query = f\"\"\"\n",
    "WITH top_tip_location_id (location_id) AS (\n",
    "  SELECT GTD.\"DOLocationID\"\n",
    "  FROM green_tripdata_2019_10 AS GTD\n",
    "  INNER JOIN taxi_zones AS TZ ON GTD.\"PULocationID\" = TZ.\"LocationID\"\n",
    "  WHERE TZ.\"Zone\" = 'East Harlem North'\n",
    "  ORDER BY GTD.\"tip_amount\" DESC\n",
    "  LIMIT 1\n",
    ")\n",
    "SELECT TZ.\"Zone\"\n",
    "FROM taxi_zones AS TZ, top_tip_location_id AS TTLI\n",
    "WHERE TZ.\"LocationID\" = TTLI.\"location_id\"\n",
    "\"\"\"\n",
    "\n",
    "print(f\"Answer to question 6: {pd.read_sql(query, engine)}\")"
   ]
  },
  {
   "cell_type": "markdown",
   "metadata": {},
   "source": [
    "## Terraform\n",
    "\n",
    "In this section homework we'll prepare the environment by creating resources in GCP with Terraform.\n",
    "\n",
    "In your VM on GCP/Laptop/GitHub Codespace install Terraform. \n",
    "Copy the files from the course repo\n",
    "[here](../../../01-docker-terraform/1_terraform_gcp/terraform) to your VM/Laptop/GitHub Codespace.\n",
    "\n",
    "Modify the files as necessary to create a GCP Bucket and Big Query Dataset."
   ]
  },
  {
   "cell_type": "markdown",
   "metadata": {},
   "source": [
    "## Question 7. Terraform Workflow\n",
    "\n",
    "Which of the following sequences, **respectively**, describes the workflow for: \n",
    "1. Downloading the provider plugins and setting up backend,\n",
    "2. Generating proposed changes and auto-executing the plan\n",
    "3. Remove all resources managed by terraform`\n",
    "\n",
    "Answers:\n",
    "- terraform import, terraform apply -y, terraform destroy\n",
    "- teraform init, terraform plan -auto-apply, terraform rm\n",
    "- terraform init, terraform run -auto-approve, terraform destroy\n",
    "- terraform init, terraform apply -auto-approve, terraform destroy\n",
    "- terraform import, terraform apply -y, terraform rm"
   ]
  },
  {
   "cell_type": "markdown",
   "metadata": {},
   "source": [
    "Answer: - terraform init, terraform apply -auto-approve, terraform destroy"
   ]
  }
 ],
 "metadata": {
  "kernelspec": {
   "display_name": "Python 3 (ipykernel)",
   "language": "python",
   "name": "python3"
  }
 },
 "nbformat": 4,
 "nbformat_minor": 2
}
