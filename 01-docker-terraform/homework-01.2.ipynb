{
 "cells": [
  {
   "cell_type": "markdown",
   "metadata": {},
   "source": [
    "### Link to homework\n",
    "https://github.com/DataTalksClub/data-engineering-zoomcamp/blob/main/cohorts/2024/01-docker-terraform/homework.md\n"
   ]
  },
  {
   "cell_type": "code",
   "execution_count": 1,
   "metadata": {},
   "outputs": [],
   "source": [
    "import pandas as pd\n",
    "from sqlalchemy import create_engine, text\n",
    "from urllib.parse import quote_plus\n",
    "from time import time"
   ]
  },
  {
   "cell_type": "code",
   "execution_count": 2,
   "metadata": {},
   "outputs": [],
   "source": [
    "trip_data_file_path = \"/workspaces/data-engineering-zoomcamp/data/green_tripdata_2019-09.csv.gz\"\n",
    "green_table_name = \"green_tripdata_2019_09\""
   ]
  },
  {
   "cell_type": "code",
   "execution_count": 27,
   "metadata": {},
   "outputs": [
    {
     "name": "stdout",
     "output_type": "stream",
     "text": [
      "P%40ssw0rd%21\n"
     ]
    }
   ],
   "source": [
    "encoded_password = quote_plus(\"P@ssw0rd!\")\n",
    "print(encoded_password)\n",
    "engine = create_engine(f\"postgresql://postgres:{encoded_password}@db:5432/ny_taxi\")"
   ]
  },
  {
   "cell_type": "code",
   "execution_count": 28,
   "metadata": {},
   "outputs": [
    {
     "data": {
      "text/plain": [
       "<sqlalchemy.engine.base.Connection at 0x7f0208644d40>"
      ]
     },
     "execution_count": 28,
     "metadata": {},
     "output_type": "execute_result"
    }
   ],
   "source": [
    "engine.connect()"
   ]
  },
  {
   "cell_type": "markdown",
   "metadata": {},
   "source": [
    "### Question 1. Knowing docker tags\n",
    "Run the command to get information on Docker\n",
    "docker --help\n",
    "\n",
    "Now run the command to get help on the \"docker build\" command:\n",
    "docker build --help\n",
    "\n",
    "Do the same for \"docker run\".\n",
    "Which tag has the following text? - Automatically remove the container when it exits\n",
    "\n",
    "Answer:\n",
    "**--rm**"
   ]
  },
  {
   "cell_type": "markdown",
   "metadata": {},
   "source": [
    "### Question 2. Understanding docker first run\n",
    "Run docker with the python:3.9 image in an interactive mode and the entrypoint of bash. Now check the python modules that are installed ( use pip list ).\n",
    "\n",
    "What is version of the package wheel ?\n",
    "\n",
    "Answer:\n",
    "root@c3816d7e6e77:/# wheel version\n",
    "\n",
    "wheel 0.45.1"
   ]
  },
  {
   "cell_type": "markdown",
   "metadata": {},
   "source": [
    "### Question 4. Longest trip for each day\n",
    "Which was the pick up day with the longest trip distance? Use the pick up time for your calculations.\n",
    "\n",
    "Tip: For every trip on a single day, we only care about the trip with the longest distance.\n",
    "\n",
    "2019-09-18\n",
    "2019-09-16\n",
    "2019-09-26\n",
    "2019-09-21\n"
   ]
  },
  {
   "cell_type": "code",
   "execution_count": 29,
   "metadata": {},
   "outputs": [
    {
     "data": {
      "text/html": [
       "<div>\n",
       "<style scoped>\n",
       "    .dataframe tbody tr th:only-of-type {\n",
       "        vertical-align: middle;\n",
       "    }\n",
       "\n",
       "    .dataframe tbody tr th {\n",
       "        vertical-align: top;\n",
       "    }\n",
       "\n",
       "    .dataframe thead th {\n",
       "        text-align: right;\n",
       "    }\n",
       "</style>\n",
       "<table border=\"1\" class=\"dataframe\">\n",
       "  <thead>\n",
       "    <tr style=\"text-align: right;\">\n",
       "      <th></th>\n",
       "      <th>count</th>\n",
       "    </tr>\n",
       "  </thead>\n",
       "  <tbody>\n",
       "    <tr>\n",
       "      <th>0</th>\n",
       "      <td>449063</td>\n",
       "    </tr>\n",
       "  </tbody>\n",
       "</table>\n",
       "</div>"
      ],
      "text/plain": [
       "    count\n",
       "0  449063"
      ]
     },
     "execution_count": 29,
     "metadata": {},
     "output_type": "execute_result"
    }
   ],
   "source": [
    "query = f\"\"\"\n",
    "SELECT COUNT(*) FROM {green_table_name}\n",
    "\"\"\"\n",
    "\n",
    "pd.read_sql_query(query, engine)"
   ]
  },
  {
   "cell_type": "code",
   "execution_count": 30,
   "metadata": {},
   "outputs": [
    {
     "data": {
      "text/html": [
       "<div>\n",
       "<style scoped>\n",
       "    .dataframe tbody tr th:only-of-type {\n",
       "        vertical-align: middle;\n",
       "    }\n",
       "\n",
       "    .dataframe tbody tr th {\n",
       "        vertical-align: top;\n",
       "    }\n",
       "\n",
       "    .dataframe thead th {\n",
       "        text-align: right;\n",
       "    }\n",
       "</style>\n",
       "<table border=\"1\" class=\"dataframe\">\n",
       "  <thead>\n",
       "    <tr style=\"text-align: right;\">\n",
       "      <th></th>\n",
       "      <th>VendorID</th>\n",
       "      <th>lpep_pickup_datetime</th>\n",
       "      <th>lpep_dropoff_datetime</th>\n",
       "      <th>store_and_fwd_flag</th>\n",
       "      <th>RatecodeID</th>\n",
       "      <th>PULocationID</th>\n",
       "      <th>DOLocationID</th>\n",
       "      <th>passenger_count</th>\n",
       "      <th>trip_distance</th>\n",
       "      <th>fare_amount</th>\n",
       "      <th>extra</th>\n",
       "      <th>mta_tax</th>\n",
       "      <th>tip_amount</th>\n",
       "      <th>tolls_amount</th>\n",
       "      <th>ehail_fee</th>\n",
       "      <th>improvement_surcharge</th>\n",
       "      <th>total_amount</th>\n",
       "      <th>payment_type</th>\n",
       "      <th>trip_type</th>\n",
       "      <th>congestion_surcharge</th>\n",
       "    </tr>\n",
       "  </thead>\n",
       "  <tbody>\n",
       "    <tr>\n",
       "      <th>0</th>\n",
       "      <td>2.0</td>\n",
       "      <td>2019-09-26 19:32:52</td>\n",
       "      <td>2019-09-27 01:50:27</td>\n",
       "      <td>N</td>\n",
       "      <td>4.0</td>\n",
       "      <td>265</td>\n",
       "      <td>16</td>\n",
       "      <td>1.0</td>\n",
       "      <td>341.64</td>\n",
       "      <td>1761.0</td>\n",
       "      <td>1.0</td>\n",
       "      <td>0.5</td>\n",
       "      <td>0.0</td>\n",
       "      <td>0.0</td>\n",
       "      <td>None</td>\n",
       "      <td>0.3</td>\n",
       "      <td>1762.8</td>\n",
       "      <td>2.0</td>\n",
       "      <td>1.0</td>\n",
       "      <td>0.0</td>\n",
       "    </tr>\n",
       "  </tbody>\n",
       "</table>\n",
       "</div>"
      ],
      "text/plain": [
       "   VendorID lpep_pickup_datetime lpep_dropoff_datetime store_and_fwd_flag  \\\n",
       "0       2.0  2019-09-26 19:32:52   2019-09-27 01:50:27                  N   \n",
       "\n",
       "   RatecodeID  PULocationID  DOLocationID  passenger_count  trip_distance  \\\n",
       "0         4.0           265            16              1.0         341.64   \n",
       "\n",
       "   fare_amount  extra  mta_tax  tip_amount  tolls_amount ehail_fee  \\\n",
       "0       1761.0    1.0      0.5         0.0           0.0      None   \n",
       "\n",
       "   improvement_surcharge  total_amount  payment_type  trip_type  \\\n",
       "0                    0.3        1762.8           2.0        1.0   \n",
       "\n",
       "   congestion_surcharge  \n",
       "0                   0.0  "
      ]
     },
     "execution_count": 30,
     "metadata": {},
     "output_type": "execute_result"
    }
   ],
   "source": [
    "query = f\"\"\"\n",
    "SELECT * FROM {green_table_name}\n",
    "ORDER BY trip_distance DESC\n",
    "LIMIT 1\n",
    "\"\"\"\n",
    "\n",
    "pd.read_sql_query(query, engine)"
   ]
  },
  {
   "cell_type": "markdown",
   "metadata": {},
   "source": [
    "Answer: the longest trip was on 2019-09-26"
   ]
  },
  {
   "cell_type": "markdown",
   "metadata": {},
   "source": [
    "### Question 5. Three biggest pick up Boroughs\n",
    "Consider lpep_pickup_datetime in '2019-09-18' and ignoring Borough has Unknown\n",
    "\n",
    "Which were the 3 pick up Boroughs that had a sum of total_amount superior to 50000?\n",
    "\n",
    "\"Brooklyn\" \"Manhattan\" \"Queens\";\n",
    "\"Bronx\" \"Brooklyn\" \"Manhattan\";\n",
    "\"Bronx\" \"Manhattan\" \"Queens\";\n",
    "\"Brooklyn\" \"Queens\" \"Staten Island\";"
   ]
  },
  {
   "cell_type": "code",
   "execution_count": 41,
   "metadata": {},
   "outputs": [
    {
     "data": {
      "text/html": [
       "<div>\n",
       "<style scoped>\n",
       "    .dataframe tbody tr th:only-of-type {\n",
       "        vertical-align: middle;\n",
       "    }\n",
       "\n",
       "    .dataframe tbody tr th {\n",
       "        vertical-align: top;\n",
       "    }\n",
       "\n",
       "    .dataframe thead th {\n",
       "        text-align: right;\n",
       "    }\n",
       "</style>\n",
       "<table border=\"1\" class=\"dataframe\">\n",
       "  <thead>\n",
       "    <tr style=\"text-align: right;\">\n",
       "      <th></th>\n",
       "      <th>table_catalog</th>\n",
       "      <th>table_schema</th>\n",
       "      <th>table_name</th>\n",
       "      <th>column_name</th>\n",
       "      <th>ordinal_position</th>\n",
       "      <th>column_default</th>\n",
       "      <th>is_nullable</th>\n",
       "      <th>data_type</th>\n",
       "      <th>character_maximum_length</th>\n",
       "      <th>character_octet_length</th>\n",
       "      <th>...</th>\n",
       "      <th>is_identity</th>\n",
       "      <th>identity_generation</th>\n",
       "      <th>identity_start</th>\n",
       "      <th>identity_increment</th>\n",
       "      <th>identity_maximum</th>\n",
       "      <th>identity_minimum</th>\n",
       "      <th>identity_cycle</th>\n",
       "      <th>is_generated</th>\n",
       "      <th>generation_expression</th>\n",
       "      <th>is_updatable</th>\n",
       "    </tr>\n",
       "  </thead>\n",
       "  <tbody>\n",
       "    <tr>\n",
       "      <th>0</th>\n",
       "      <td>ny_taxi</td>\n",
       "      <td>public</td>\n",
       "      <td>green_tripdata_2019_09</td>\n",
       "      <td>congestion_surcharge</td>\n",
       "      <td>20</td>\n",
       "      <td>None</td>\n",
       "      <td>YES</td>\n",
       "      <td>double precision</td>\n",
       "      <td>None</td>\n",
       "      <td>None</td>\n",
       "      <td>...</td>\n",
       "      <td>NO</td>\n",
       "      <td>None</td>\n",
       "      <td>None</td>\n",
       "      <td>None</td>\n",
       "      <td>None</td>\n",
       "      <td>None</td>\n",
       "      <td>NO</td>\n",
       "      <td>NEVER</td>\n",
       "      <td>None</td>\n",
       "      <td>YES</td>\n",
       "    </tr>\n",
       "    <tr>\n",
       "      <th>1</th>\n",
       "      <td>ny_taxi</td>\n",
       "      <td>public</td>\n",
       "      <td>green_tripdata_2019_09</td>\n",
       "      <td>lpep_pickup_datetime</td>\n",
       "      <td>2</td>\n",
       "      <td>None</td>\n",
       "      <td>YES</td>\n",
       "      <td>timestamp without time zone</td>\n",
       "      <td>None</td>\n",
       "      <td>None</td>\n",
       "      <td>...</td>\n",
       "      <td>NO</td>\n",
       "      <td>None</td>\n",
       "      <td>None</td>\n",
       "      <td>None</td>\n",
       "      <td>None</td>\n",
       "      <td>None</td>\n",
       "      <td>NO</td>\n",
       "      <td>NEVER</td>\n",
       "      <td>None</td>\n",
       "      <td>YES</td>\n",
       "    </tr>\n",
       "    <tr>\n",
       "      <th>2</th>\n",
       "      <td>ny_taxi</td>\n",
       "      <td>public</td>\n",
       "      <td>green_tripdata_2019_09</td>\n",
       "      <td>lpep_dropoff_datetime</td>\n",
       "      <td>3</td>\n",
       "      <td>None</td>\n",
       "      <td>YES</td>\n",
       "      <td>timestamp without time zone</td>\n",
       "      <td>None</td>\n",
       "      <td>None</td>\n",
       "      <td>...</td>\n",
       "      <td>NO</td>\n",
       "      <td>None</td>\n",
       "      <td>None</td>\n",
       "      <td>None</td>\n",
       "      <td>None</td>\n",
       "      <td>None</td>\n",
       "      <td>NO</td>\n",
       "      <td>NEVER</td>\n",
       "      <td>None</td>\n",
       "      <td>YES</td>\n",
       "    </tr>\n",
       "    <tr>\n",
       "      <th>3</th>\n",
       "      <td>ny_taxi</td>\n",
       "      <td>public</td>\n",
       "      <td>green_tripdata_2019_09</td>\n",
       "      <td>VendorID</td>\n",
       "      <td>1</td>\n",
       "      <td>None</td>\n",
       "      <td>YES</td>\n",
       "      <td>double precision</td>\n",
       "      <td>None</td>\n",
       "      <td>None</td>\n",
       "      <td>...</td>\n",
       "      <td>NO</td>\n",
       "      <td>None</td>\n",
       "      <td>None</td>\n",
       "      <td>None</td>\n",
       "      <td>None</td>\n",
       "      <td>None</td>\n",
       "      <td>NO</td>\n",
       "      <td>NEVER</td>\n",
       "      <td>None</td>\n",
       "      <td>YES</td>\n",
       "    </tr>\n",
       "    <tr>\n",
       "      <th>4</th>\n",
       "      <td>ny_taxi</td>\n",
       "      <td>public</td>\n",
       "      <td>green_tripdata_2019_09</td>\n",
       "      <td>RatecodeID</td>\n",
       "      <td>5</td>\n",
       "      <td>None</td>\n",
       "      <td>YES</td>\n",
       "      <td>double precision</td>\n",
       "      <td>None</td>\n",
       "      <td>None</td>\n",
       "      <td>...</td>\n",
       "      <td>NO</td>\n",
       "      <td>None</td>\n",
       "      <td>None</td>\n",
       "      <td>None</td>\n",
       "      <td>None</td>\n",
       "      <td>None</td>\n",
       "      <td>NO</td>\n",
       "      <td>NEVER</td>\n",
       "      <td>None</td>\n",
       "      <td>YES</td>\n",
       "    </tr>\n",
       "  </tbody>\n",
       "</table>\n",
       "<p>5 rows × 44 columns</p>\n",
       "</div>"
      ],
      "text/plain": [
       "  table_catalog table_schema              table_name            column_name  \\\n",
       "0       ny_taxi       public  green_tripdata_2019_09   congestion_surcharge   \n",
       "1       ny_taxi       public  green_tripdata_2019_09   lpep_pickup_datetime   \n",
       "2       ny_taxi       public  green_tripdata_2019_09  lpep_dropoff_datetime   \n",
       "3       ny_taxi       public  green_tripdata_2019_09               VendorID   \n",
       "4       ny_taxi       public  green_tripdata_2019_09             RatecodeID   \n",
       "\n",
       "   ordinal_position column_default is_nullable                    data_type  \\\n",
       "0                20           None         YES             double precision   \n",
       "1                 2           None         YES  timestamp without time zone   \n",
       "2                 3           None         YES  timestamp without time zone   \n",
       "3                 1           None         YES             double precision   \n",
       "4                 5           None         YES             double precision   \n",
       "\n",
       "  character_maximum_length character_octet_length  ...  is_identity  \\\n",
       "0                     None                   None  ...           NO   \n",
       "1                     None                   None  ...           NO   \n",
       "2                     None                   None  ...           NO   \n",
       "3                     None                   None  ...           NO   \n",
       "4                     None                   None  ...           NO   \n",
       "\n",
       "   identity_generation identity_start  identity_increment identity_maximum  \\\n",
       "0                 None           None                None             None   \n",
       "1                 None           None                None             None   \n",
       "2                 None           None                None             None   \n",
       "3                 None           None                None             None   \n",
       "4                 None           None                None             None   \n",
       "\n",
       "  identity_minimum identity_cycle is_generated generation_expression  \\\n",
       "0             None             NO        NEVER                  None   \n",
       "1             None             NO        NEVER                  None   \n",
       "2             None             NO        NEVER                  None   \n",
       "3             None             NO        NEVER                  None   \n",
       "4             None             NO        NEVER                  None   \n",
       "\n",
       "  is_updatable  \n",
       "0          YES  \n",
       "1          YES  \n",
       "2          YES  \n",
       "3          YES  \n",
       "4          YES  \n",
       "\n",
       "[5 rows x 44 columns]"
      ]
     },
     "execution_count": 41,
     "metadata": {},
     "output_type": "execute_result"
    }
   ],
   "source": [
    "query = f\"\"\"\n",
    "SELECT *\n",
    "FROM information_schema.columns\n",
    "WHERE table_name = '{green_table_name}'\n",
    "LIMIT 5\n",
    "\"\"\"\n",
    "\n",
    "pd.read_sql(query, engine)"
   ]
  },
  {
   "cell_type": "code",
   "execution_count": 50,
   "metadata": {},
   "outputs": [
    {
     "name": "stdout",
     "output_type": "stream",
     "text": [
      "   total_amount\n",
      "0  7,531,951.89\n"
     ]
    }
   ],
   "source": [
    "query = f\"\"\"\n",
    "SELECT SUM(total_amount) AS total_amount\n",
    "FROM {green_table_name} AS G\n",
    "INNER JOIN taxi_zones AS T ON G.\"PULocationID\" = T.\"LocationID\"\n",
    "WHERE T.Borough = 'Manhattan' OR T.Borough = 'Brooklyn' OR T.Borough = 'Queens'\n",
    "\"\"\"\n",
    "# --\n",
    "\n",
    "result = pd.read_sql(query, engine)\n",
    "\n",
    "print(result.to_string(float_format='{:,.2f}'.format))"
   ]
  },
  {
   "cell_type": "code",
   "execution_count": 51,
   "metadata": {},
   "outputs": [
    {
     "name": "stdout",
     "output_type": "stream",
     "text": [
      "   total_amount\n",
      "0  5,865,417.52\n"
     ]
    }
   ],
   "source": [
    "query = f\"\"\"\n",
    "SELECT SUM(total_amount) AS total_amount\n",
    "FROM {green_table_name} AS G\n",
    "INNER JOIN taxi_zones AS T ON G.\"PULocationID\" = T.\"LocationID\"\n",
    "WHERE T.Borough = 'Bronx' OR T.Borough = 'Brooklyn' OR T.Borough = 'Manhattan'\n",
    "\"\"\"\n",
    "# --\n",
    "\n",
    "\n",
    "result = pd.read_sql(query, engine)\n",
    "\n",
    "print(result.to_string(float_format='{:,.2f}'.format))"
   ]
  },
  {
   "cell_type": "code",
   "execution_count": 52,
   "metadata": {},
   "outputs": [
    {
     "name": "stdout",
     "output_type": "stream",
     "text": [
      "   total_amount\n",
      "0  5,730,731.41\n"
     ]
    }
   ],
   "source": [
    "query = f\"\"\"\n",
    "SELECT SUM(total_amount) AS total_amount\n",
    "FROM {green_table_name} AS G\n",
    "INNER JOIN taxi_zones AS T ON G.\"PULocationID\" = T.\"LocationID\"\n",
    "WHERE T.Borough = 'Bronx' OR T.Borough = 'Manhattan' OR T.Borough = 'Queens'\n",
    "\"\"\"\n",
    "# --\"Bronx\" \"Manhattan\" \"Queens\";\n",
    "\n",
    "\n",
    "result = pd.read_sql(query, engine)\n",
    "\n",
    "print(result.to_string(float_format='{:,.2f}'.format))"
   ]
  },
  {
   "cell_type": "code",
   "execution_count": 53,
   "metadata": {},
   "outputs": [
    {
     "name": "stdout",
     "output_type": "stream",
     "text": [
      "   total_amount\n",
      "0  5,115,319.28\n"
     ]
    }
   ],
   "source": [
    "query = f\"\"\"\n",
    "SELECT SUM(total_amount) AS total_amount\n",
    "FROM {green_table_name} AS G\n",
    "INNER JOIN taxi_zones AS T ON G.\"PULocationID\" = T.\"LocationID\"\n",
    "WHERE T.Borough = 'Brooklyn' OR T.Borough = 'Queens' OR T.Borough = 'Staten Island'\n",
    "\"\"\"\n",
    "# --\"Brooklyn\" \"Queens\" \"Staten Island\";\n",
    "\n",
    "\n",
    "result = pd.read_sql(query, engine)\n",
    "\n",
    "print(result.to_string(float_format='{:,.2f}'.format))"
   ]
  },
  {
   "cell_type": "markdown",
   "metadata": {},
   "source": [
    "### Question 6. Largest tip\n",
    "For the passengers picked up in September 2019 in the zone name Astoria which was the drop off zone that had the largest tip? We want the name of the zone, not the id.\n",
    "\n",
    "Note: it's not a typo, it's tip , not trip\n",
    "\n",
    "Central Park\n",
    "Jamaica\n",
    "JFK Airport\n",
    "Long Island City/Queens Plaza"
   ]
  }
 ],
 "metadata": {
  "kernelspec": {
   "display_name": "Python 3 (ipykernel)",
   "language": "python",
   "name": "python3"
  },
  "language_info": {
   "codemirror_mode": {
    "name": "ipython",
    "version": 3
   },
   "file_extension": ".py",
   "mimetype": "text/x-python",
   "name": "python",
   "nbconvert_exporter": "python",
   "pygments_lexer": "ipython3",
   "version": "3.12.8"
  }
 },
 "nbformat": 4,
 "nbformat_minor": 2
}
