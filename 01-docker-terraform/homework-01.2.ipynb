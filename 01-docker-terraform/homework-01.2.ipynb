{
 "cells": [
  {
   "cell_type": "markdown",
   "metadata": {},
   "source": [
    "### Link to homework\n",
    "https://github.com/DataTalksClub/data-engineering-zoomcamp/blob/main/cohorts/2024/01-docker-terraform/homework.md\n"
   ]
  },
  {
   "cell_type": "code",
   "execution_count": 1,
   "metadata": {},
   "outputs": [],
   "source": [
    "import pandas as pd\n",
    "from sqlalchemy import create_engine, text\n",
    "from urllib.parse import quote_plus\n",
    "from time import time"
   ]
  },
  {
   "cell_type": "code",
   "execution_count": 2,
   "metadata": {},
   "outputs": [],
   "source": [
    "trip_data_file_path = \"/workspaces/data-engineering-zoomcamp/data/green_tripdata_2019-10.csv.gz\"\n",
    "green_table_name = \"green_tripdata_2019_10\""
   ]
  },
  {
   "cell_type": "code",
   "execution_count": 3,
   "metadata": {},
   "outputs": [
    {
     "name": "stdout",
     "output_type": "stream",
     "text": [
      "P%40ssw0rd%21\n"
     ]
    }
   ],
   "source": [
    "encoded_password = quote_plus(\"P@ssw0rd!\")\n",
    "print(encoded_password)\n",
    "engine = create_engine(f\"postgresql://postgres:{encoded_password}@db:5432/ny_taxi\")"
   ]
  },
  {
   "cell_type": "code",
   "execution_count": 4,
   "metadata": {},
   "outputs": [
    {
     "data": {
      "text/plain": [
       "<sqlalchemy.engine.base.Connection at 0x7fda0b1f9a60>"
      ]
     },
     "execution_count": 4,
     "metadata": {},
     "output_type": "execute_result"
    }
   ],
   "source": [
    "engine.connect()"
   ]
  },
  {
   "cell_type": "code",
   "execution_count": 5,
   "metadata": {},
   "outputs": [
    {
     "data": {
      "text/html": [
       "<div>\n",
       "<style scoped>\n",
       "    .dataframe tbody tr th:only-of-type {\n",
       "        vertical-align: middle;\n",
       "    }\n",
       "\n",
       "    .dataframe tbody tr th {\n",
       "        vertical-align: top;\n",
       "    }\n",
       "\n",
       "    .dataframe thead th {\n",
       "        text-align: right;\n",
       "    }\n",
       "</style>\n",
       "<table border=\"1\" class=\"dataframe\">\n",
       "  <thead>\n",
       "    <tr style=\"text-align: right;\">\n",
       "      <th></th>\n",
       "      <th>VendorID</th>\n",
       "      <th>lpep_pickup_datetime</th>\n",
       "      <th>lpep_dropoff_datetime</th>\n",
       "      <th>store_and_fwd_flag</th>\n",
       "      <th>RatecodeID</th>\n",
       "      <th>PULocationID</th>\n",
       "      <th>DOLocationID</th>\n",
       "      <th>passenger_count</th>\n",
       "      <th>trip_distance</th>\n",
       "      <th>fare_amount</th>\n",
       "      <th>extra</th>\n",
       "      <th>mta_tax</th>\n",
       "      <th>tip_amount</th>\n",
       "      <th>tolls_amount</th>\n",
       "      <th>ehail_fee</th>\n",
       "      <th>improvement_surcharge</th>\n",
       "      <th>total_amount</th>\n",
       "      <th>payment_type</th>\n",
       "      <th>trip_type</th>\n",
       "      <th>congestion_surcharge</th>\n",
       "    </tr>\n",
       "  </thead>\n",
       "  <tbody>\n",
       "    <tr>\n",
       "      <th>0</th>\n",
       "      <td>1</td>\n",
       "      <td>2019-10-03 20:35:50</td>\n",
       "      <td>2019-10-03 21:07:53</td>\n",
       "      <td>N</td>\n",
       "      <td>1.0</td>\n",
       "      <td>62</td>\n",
       "      <td>91</td>\n",
       "      <td>2.0</td>\n",
       "      <td>5.1</td>\n",
       "      <td>24.0</td>\n",
       "      <td>0.5</td>\n",
       "      <td>0.5</td>\n",
       "      <td>0.0</td>\n",
       "      <td>0.0</td>\n",
       "      <td>None</td>\n",
       "      <td>0.3</td>\n",
       "      <td>25.3</td>\n",
       "      <td>1.0</td>\n",
       "      <td>1.0</td>\n",
       "      <td>0.0</td>\n",
       "    </tr>\n",
       "  </tbody>\n",
       "</table>\n",
       "</div>"
      ],
      "text/plain": [
       "   VendorID lpep_pickup_datetime lpep_dropoff_datetime store_and_fwd_flag  \\\n",
       "0         1  2019-10-03 20:35:50   2019-10-03 21:07:53                  N   \n",
       "\n",
       "   RatecodeID  PULocationID  DOLocationID  passenger_count  trip_distance  \\\n",
       "0         1.0            62            91              2.0            5.1   \n",
       "\n",
       "   fare_amount  extra  mta_tax  tip_amount  tolls_amount ehail_fee  \\\n",
       "0         24.0    0.5      0.5         0.0           0.0      None   \n",
       "\n",
       "   improvement_surcharge  total_amount  payment_type  trip_type  \\\n",
       "0                    0.3          25.3           1.0        1.0   \n",
       "\n",
       "   congestion_surcharge  \n",
       "0                   0.0  "
      ]
     },
     "execution_count": 5,
     "metadata": {},
     "output_type": "execute_result"
    }
   ],
   "source": [
    "query_up_to_1 = \"\"\"\n",
    "    SELECT *\n",
    "    FROM green_tripdata_2019_10\n",
    "    LIMIT 1\n",
    "\"\"\"\n",
    "\n",
    "pd.read_sql(query_up_to_1, engine)"
   ]
  },
  {
   "cell_type": "markdown",
   "metadata": {},
   "source": [
    "## Question 1. Understanding docker first run \n",
    "\n",
    "Run docker with the `python:3.12.8` image in an interactive mode, use the entrypoint `bash`.\n",
    "\n",
    "What's the version of `pip` in the image?\n",
    "\n",
    "- 24.3.1\n",
    "- 24.2.1\n",
    "- 23.3.1\n",
    "- 23.2.1\n",
    "\n",
    "Answer: Answer: root@3b27cc74845d:/# pip --version\n",
    "pip 24.3.1"
   ]
  },
  {
   "cell_type": "markdown",
   "metadata": {},
   "source": [
    "## Question 2. Understanding Docker networking and docker-compose\n",
    "\n",
    "Given the following `docker-compose.yaml`, what is the `hostname` and `port` that **pgadmin** should use to connect to the postgres database?\n",
    "\n",
    "```yaml\n",
    "services:\n",
    "  db:\n",
    "    container_name: postgres\n",
    "    image: postgres:17-alpine\n",
    "    environment:\n",
    "      POSTGRES_USER: 'postgres'\n",
    "      POSTGRES_PASSWORD: 'postgres'\n",
    "      POSTGRES_DB: 'ny_taxi'\n",
    "    ports:\n",
    "      - '5433:5432'\n",
    "    volumes:\n",
    "      - vol-pgdata:/var/lib/postgresql/data\n",
    "\n",
    "  pgadmin:\n",
    "    container_name: pgadmin\n",
    "    image: dpage/pgadmin4:latest\n",
    "    environment:\n",
    "      PGADMIN_DEFAULT_EMAIL: \"pgadmin@pgadmin.com\"\n",
    "      PGADMIN_DEFAULT_PASSWORD: \"pgadmin\"\n",
    "    ports:\n",
    "      - \"8080:80\"\n",
    "    volumes:\n",
    "      - vol-pgadmin_data:/var/lib/pgadmin  \n",
    "\n",
    "volumes:\n",
    "  vol-pgdata:\n",
    "    name: vol-pgdata\n",
    "  vol-pgadmin_data:\n",
    "    name: vol-pgadmin_data\n",
    "```\n",
    "\n",
    "- postgres:5433\n",
    "- localhost:5432\n",
    "- db:5433\n",
    "- postgres:5432\n",
    "- db:5432\n",
    "\n",
    "\n",
    "##  Prepare Postgres\n",
    "\n",
    "Run Postgres and load data as shown in the videos\n",
    "We'll use the green taxi trips from October 2019:\n",
    "\n",
    "```bash\n",
    "wget https://github.com/DataTalksClub/nyc-tlc-data/releases/download/green/green_tripdata_2019-10.csv.gz\n",
    "```\n",
    "\n",
    "You will also need the dataset with zones:\n",
    "\n",
    "```bash\n",
    "wget https://github.com/DataTalksClub/nyc-tlc-data/releases/download/misc/taxi_zone_lookup.csv\n",
    "```\n",
    "\n",
    "Download this data and put it into Postgres.\n",
    "\n",
    "You can use the code from the course. It's up to you whether\n",
    "you want to use Jupyter or a python script."
   ]
  },
  {
   "cell_type": "markdown",
   "metadata": {},
   "source": [
    "## Question 3. Trip Segmentation Count\n",
    "\n",
    "During the period of October 1st 2019 (inclusive) and November 1st 2019 (exclusive), how many trips, **respectively**, happened:\n",
    "1. Up to 1 mile\n",
    "2. In between 1 (exclusive) and 3 miles (inclusive),\n",
    "3. In between 3 (exclusive) and 7 miles (inclusive),\n",
    "4. In between 7 (exclusive) and 10 miles (inclusive),\n",
    "5. Over 10 miles \n",
    "\n",
    "Answers:\n",
    "\n",
    "- 104,802;  197,670;  110,612;  27,831;  35,281\n",
    "- 104,802;  198,924;  109,603;  27,678;  35,189\n",
    "- 104,793;  201,407;  110,612;  27,831;  35,281\n",
    "- 104,793;  202,661;  109,603;  27,678;  35,189\n",
    "- 104,838;  199,013;  109,645;  27,688;  35,202\n",
    "\n"
   ]
  },
  {
   "cell_type": "code",
   "execution_count": null,
   "metadata": {},
   "outputs": [],
   "source": [
    "query_up_to_1 = f\"\"\"\n",
    "SELECT\n",
    "  COUNT(GTD_UP_TO_1.trip_distance) AS UP_TO_1\n",
    "FROM green_tripdata_2019_10 AS GTD_UP_TO_1\n",
    "WHERE\n",
    "  GTD_UP_TO_1.\"lpep_pickup_datetime\" >= '2019-10-01 00:00:00'\n",
    "  AND GTD_UP_TO_1.\"lpep_pickup_datetime\" < '2019-11-01 00:00:00'\n",
    "  AND GTD_UP_TO_1.trip_distance <= 1\n",
    "\"\"\"\n",
    "\n",
    "query_between_1_3 = f\"\"\"\n",
    "SELECT COUNT(GTD.trip_distance) AS GTD\n",
    "FROM green_tripdata_2019_10 AS GTD\n",
    "WHERE\n",
    "  GTD.\"lpep_pickup_datetime\" >= '2019-10-01 00:00:00'\n",
    "  AND GTD.\"lpep_pickup_datetime\" < '2019-11-01 00:00:00'\n",
    "  AND GTD.trip_distance > 1 AND GTD.trip_distance <= 3\n",
    "\"\"\"\n",
    "\n",
    "# query = f\"\"\"\n",
    "# SELECT COUNT(GTD_UP_TO_1.trip_distance) AS UP_TO_1\n",
    "# FROM green_tripdata_2019_10 AS GTD_UP_TO_1\n",
    "# WHERE\n",
    "#   GTD_UP_TO_1.trip_distance <= 1\n",
    "# \"\"\"\n",
    "\n",
    "print(f\"Up to 1: {pd.read_sql_query(query_up_to_1, engine)}\")\n",
    "print(f\"Between 1 and 3: {pd.read_sql_query(query_between_1_3, engine)}\")"
   ]
  },
  {
   "cell_type": "markdown",
   "metadata": {},
   "source": [
    "## Question 4. Longest trip for each day\n",
    "\n",
    "Which was the pick up day with the longest trip distance?\n",
    "Use the pick up time for your calculations.\n",
    "\n",
    "Tip: For every day, we only care about one single trip with the longest distance. \n",
    "\n",
    "- 2019-10-11\n",
    "- 2019-10-24\n",
    "- 2019-10-26\n",
    "- 2019-10-31"
   ]
  },
  {
   "cell_type": "code",
   "execution_count": null,
   "metadata": {},
   "outputs": [
    {
     "data": {
      "text/html": [
       "<div>\n",
       "<style scoped>\n",
       "    .dataframe tbody tr th:only-of-type {\n",
       "        vertical-align: middle;\n",
       "    }\n",
       "\n",
       "    .dataframe tbody tr th {\n",
       "        vertical-align: top;\n",
       "    }\n",
       "\n",
       "    .dataframe thead th {\n",
       "        text-align: right;\n",
       "    }\n",
       "</style>\n",
       "<table border=\"1\" class=\"dataframe\">\n",
       "  <thead>\n",
       "    <tr style=\"text-align: right;\">\n",
       "      <th></th>\n",
       "      <th>count</th>\n",
       "    </tr>\n",
       "  </thead>\n",
       "  <tbody>\n",
       "    <tr>\n",
       "      <th>0</th>\n",
       "      <td>476386</td>\n",
       "    </tr>\n",
       "  </tbody>\n",
       "</table>\n",
       "</div>"
      ],
      "text/plain": [
       "    count\n",
       "0  476386"
      ]
     },
     "execution_count": 6,
     "metadata": {},
     "output_type": "execute_result"
    }
   ],
   "source": [
    "query_up_to_1 = f\"\"\"\n",
    "SELECT COUNT(*) FROM {green_table_name}\n",
    "\"\"\"\n",
    "\n",
    "pd.read_sql_query(query_up_to_1, engine)"
   ]
  },
  {
   "cell_type": "code",
   "execution_count": null,
   "metadata": {},
   "outputs": [
    {
     "data": {
      "text/html": [
       "<div>\n",
       "<style scoped>\n",
       "    .dataframe tbody tr th:only-of-type {\n",
       "        vertical-align: middle;\n",
       "    }\n",
       "\n",
       "    .dataframe tbody tr th {\n",
       "        vertical-align: top;\n",
       "    }\n",
       "\n",
       "    .dataframe thead th {\n",
       "        text-align: right;\n",
       "    }\n",
       "</style>\n",
       "<table border=\"1\" class=\"dataframe\">\n",
       "  <thead>\n",
       "    <tr style=\"text-align: right;\">\n",
       "      <th></th>\n",
       "      <th>VendorID</th>\n",
       "      <th>lpep_pickup_datetime</th>\n",
       "      <th>lpep_dropoff_datetime</th>\n",
       "      <th>store_and_fwd_flag</th>\n",
       "      <th>RatecodeID</th>\n",
       "      <th>PULocationID</th>\n",
       "      <th>DOLocationID</th>\n",
       "      <th>passenger_count</th>\n",
       "      <th>trip_distance</th>\n",
       "      <th>fare_amount</th>\n",
       "      <th>extra</th>\n",
       "      <th>mta_tax</th>\n",
       "      <th>tip_amount</th>\n",
       "      <th>tolls_amount</th>\n",
       "      <th>ehail_fee</th>\n",
       "      <th>improvement_surcharge</th>\n",
       "      <th>total_amount</th>\n",
       "      <th>payment_type</th>\n",
       "      <th>trip_type</th>\n",
       "      <th>congestion_surcharge</th>\n",
       "    </tr>\n",
       "  </thead>\n",
       "  <tbody>\n",
       "    <tr>\n",
       "      <th>0</th>\n",
       "      <td>2</td>\n",
       "      <td>2019-10-31 23:23:41</td>\n",
       "      <td>2019-11-01 13:01:07</td>\n",
       "      <td>N</td>\n",
       "      <td>5.0</td>\n",
       "      <td>129</td>\n",
       "      <td>265</td>\n",
       "      <td>1.0</td>\n",
       "      <td>515.89</td>\n",
       "      <td>100.0</td>\n",
       "      <td>2.75</td>\n",
       "      <td>0.0</td>\n",
       "      <td>0.0</td>\n",
       "      <td>0.0</td>\n",
       "      <td>None</td>\n",
       "      <td>0.3</td>\n",
       "      <td>103.05</td>\n",
       "      <td>2.0</td>\n",
       "      <td>1.0</td>\n",
       "      <td>0.0</td>\n",
       "    </tr>\n",
       "  </tbody>\n",
       "</table>\n",
       "</div>"
      ],
      "text/plain": [
       "   VendorID lpep_pickup_datetime lpep_dropoff_datetime store_and_fwd_flag  \\\n",
       "0         2  2019-10-31 23:23:41   2019-11-01 13:01:07                  N   \n",
       "\n",
       "   RatecodeID  PULocationID  DOLocationID  passenger_count  trip_distance  \\\n",
       "0         5.0           129           265              1.0         515.89   \n",
       "\n",
       "   fare_amount  extra  mta_tax  tip_amount  tolls_amount ehail_fee  \\\n",
       "0        100.0   2.75      0.0         0.0           0.0      None   \n",
       "\n",
       "   improvement_surcharge  total_amount  payment_type  trip_type  \\\n",
       "0                    0.3        103.05           2.0        1.0   \n",
       "\n",
       "   congestion_surcharge  \n",
       "0                   0.0  "
      ]
     },
     "execution_count": 8,
     "metadata": {},
     "output_type": "execute_result"
    }
   ],
   "source": [
    "query_up_to_1 = f\"\"\"\n",
    "SELECT * FROM green_tripdata_2019_10 AS GTD\n",
    "ORDER BY GTD.trip_distance DESC\n",
    "LIMIT 1\n",
    "\"\"\"\n",
    "\n",
    "pd.read_sql_query(query_up_to_1, engine)"
   ]
  },
  {
   "cell_type": "markdown",
   "metadata": {},
   "source": [
    "Answer: the longest trip was on 2019-10-31"
   ]
  },
  {
   "cell_type": "markdown",
   "metadata": {},
   "source": [
    "### Question 5. Three biggest pick up Boroughs (WRONG SOLUTION)\n",
    "Consider lpep_pickup_datetime in '2019-09-18' and ignoring Borough has Unknown\n",
    "\n",
    "Which were the 3 pick up Boroughs that had a sum of total_amount superior to 50000?\n",
    "\n",
    "\"Brooklyn\" \"Manhattan\" \"Queens\";\n",
    "\"Bronx\" \"Brooklyn\" \"Manhattan\";\n",
    "\"Bronx\" \"Manhattan\" \"Queens\";\n",
    "\"Brooklyn\" \"Queens\" \"Staten Island\";"
   ]
  },
  {
   "cell_type": "code",
   "execution_count": null,
   "metadata": {},
   "outputs": [
    {
     "data": {
      "text/html": [
       "<div>\n",
       "<style scoped>\n",
       "    .dataframe tbody tr th:only-of-type {\n",
       "        vertical-align: middle;\n",
       "    }\n",
       "\n",
       "    .dataframe tbody tr th {\n",
       "        vertical-align: top;\n",
       "    }\n",
       "\n",
       "    .dataframe thead th {\n",
       "        text-align: right;\n",
       "    }\n",
       "</style>\n",
       "<table border=\"1\" class=\"dataframe\">\n",
       "  <thead>\n",
       "    <tr style=\"text-align: right;\">\n",
       "      <th></th>\n",
       "      <th>total_amount</th>\n",
       "      <th>group_name</th>\n",
       "    </tr>\n",
       "  </thead>\n",
       "  <tbody>\n",
       "    <tr>\n",
       "      <th>0</th>\n",
       "      <td>221434.63</td>\n",
       "      <td>Bronx/Brooklyn/Manhattan</td>\n",
       "    </tr>\n",
       "    <tr>\n",
       "      <th>1</th>\n",
       "      <td>268136.34</td>\n",
       "      <td>Brooklyn/Manhattan/Queens</td>\n",
       "    </tr>\n",
       "    <tr>\n",
       "      <th>2</th>\n",
       "      <td>176207.63</td>\n",
       "      <td>Brooklyn/Queens/Staten Island</td>\n",
       "    </tr>\n",
       "    <tr>\n",
       "      <th>3</th>\n",
       "      <td>204633.19</td>\n",
       "      <td>Bronx/Manhattan/Queens</td>\n",
       "    </tr>\n",
       "  </tbody>\n",
       "</table>\n",
       "</div>"
      ],
      "text/plain": [
       "   total_amount                     group_name\n",
       "0     221434.63       Bronx/Brooklyn/Manhattan\n",
       "1     268136.34      Brooklyn/Manhattan/Queens\n",
       "2     176207.63  Brooklyn/Queens/Staten Island\n",
       "3     204633.19         Bronx/Manhattan/Queens"
      ]
     },
     "execution_count": 109,
     "metadata": {},
     "output_type": "execute_result"
    }
   ],
   "source": [
    "query_up_to_1 = f\"\"\"\n",
    "SELECT SUM(total_amount) AS total_amount, 'Brooklyn/Manhattan/Queens' as group_name\n",
    "FROM green_tripdata_2019_09 AS GTD\n",
    "INNER JOIN taxi_zones AS T ON GTD.\"PULocationID\" = T.\"LocationID\"\n",
    "WHERE GTD.\"lpep_pickup_datetime\" >= '2019-09-18 00:00:00'\n",
    "  AND GTD.\"lpep_pickup_datetime\" <= '2019-09-18 23:59:59'\n",
    "  AND (T.Borough = 'Brooklyn' OR T.Borough = 'Manhattan' OR T.Borough = 'Queens')\n",
    "\n",
    "UNION\n",
    "\n",
    "SELECT SUM(total_amount) AS total_amount, 'Bronx/Brooklyn/Manhattan' as group_name\n",
    "FROM green_tripdata_2019_09 AS GTD\n",
    "INNER JOIN taxi_zones AS T ON GTD.\"PULocationID\" = T.\"LocationID\"\n",
    "WHERE GTD.\"lpep_pickup_datetime\" >= '2019-09-18 00:00:00'\n",
    "  AND GTD.\"lpep_pickup_datetime\" <= '2019-09-18 23:59:59'\n",
    "  AND (T.Borough = 'Bronx' OR T.Borough = 'Brooklyn' OR T.Borough = 'Manhattan')\n",
    "\n",
    "UNION\n",
    "\n",
    "SELECT SUM(total_amount) AS total_amount, 'Bronx/Manhattan/Queens' as group_name\n",
    "FROM green_tripdata_2019_09 AS GTD\n",
    "INNER JOIN taxi_zones AS T ON GTD.\"PULocationID\" = T.\"LocationID\"\n",
    "WHERE GTD.\"lpep_pickup_datetime\" >= '2019-09-18 00:00:00'\n",
    "  AND GTD.\"lpep_pickup_datetime\" <= '2019-09-18 23:59:59'\n",
    "  AND (T.Borough = 'Bronx' OR T.Borough = 'Manhattan' OR T.Borough = 'Queens')\n",
    "\n",
    "UNION\n",
    "\n",
    "SELECT SUM(total_amount) AS total_amount, 'Brooklyn/Queens/Staten Island' as group_name\n",
    "FROM green_tripdata_2019_09 AS GTD\n",
    "INNER JOIN taxi_zones AS T ON GTD.\"PULocationID\" = T.\"LocationID\"\n",
    "WHERE GTD.\"lpep_pickup_datetime\" >= '2019-09-18 00:00:00'\n",
    "  AND GTD.\"lpep_pickup_datetime\" <= '2019-09-18 23:59:59'\n",
    "  AND (T.Borough = 'Brooklyn' OR T.Borough = 'Queens' OR T.Borough = 'Staten Island')\n",
    "\"\"\"\n",
    "# --\n",
    "\n",
    "pd.read_sql(query_up_to_1, engine)"
   ]
  },
  {
   "cell_type": "markdown",
   "metadata": {},
   "source": [
    "### Question 5. Three biggest pick up Boroughs (CORRECT SOLUTION)\n",
    "Consider lpep_pickup_datetime in '2019-09-18' and ignoring Borough has Unknown\n",
    "\n",
    "Which were the 3 pick up Boroughs that had a sum of total_amount superior to 50000?\n",
    "\n",
    "\"Brooklyn\" \"Manhattan\" \"Queens\";\n",
    "\"Bronx\" \"Brooklyn\" \"Manhattan\";\n",
    "\"Bronx\" \"Manhattan\" \"Queens\";\n",
    "\"Brooklyn\" \"Queens\" \"Staten Island\";"
   ]
  },
  {
   "cell_type": "code",
   "execution_count": null,
   "metadata": {},
   "outputs": [
    {
     "data": {
      "text/html": [
       "<div>\n",
       "<style scoped>\n",
       "    .dataframe tbody tr th:only-of-type {\n",
       "        vertical-align: middle;\n",
       "    }\n",
       "\n",
       "    .dataframe tbody tr th {\n",
       "        vertical-align: top;\n",
       "    }\n",
       "\n",
       "    .dataframe thead th {\n",
       "        text-align: right;\n",
       "    }\n",
       "</style>\n",
       "<table border=\"1\" class=\"dataframe\">\n",
       "  <thead>\n",
       "    <tr style=\"text-align: right;\">\n",
       "      <th></th>\n",
       "      <th>borough</th>\n",
       "      <th>total_amount</th>\n",
       "    </tr>\n",
       "  </thead>\n",
       "  <tbody>\n",
       "    <tr>\n",
       "      <th>0</th>\n",
       "      <td>Brooklyn</td>\n",
       "      <td>96333.24</td>\n",
       "    </tr>\n",
       "    <tr>\n",
       "      <th>1</th>\n",
       "      <td>Manhattan</td>\n",
       "      <td>92271.30</td>\n",
       "    </tr>\n",
       "    <tr>\n",
       "      <th>2</th>\n",
       "      <td>Queens</td>\n",
       "      <td>79531.80</td>\n",
       "    </tr>\n",
       "    <tr>\n",
       "      <th>3</th>\n",
       "      <td>Bronx</td>\n",
       "      <td>32830.09</td>\n",
       "    </tr>\n",
       "    <tr>\n",
       "      <th>4</th>\n",
       "      <td>Staten Island</td>\n",
       "      <td>342.59</td>\n",
       "    </tr>\n",
       "  </tbody>\n",
       "</table>\n",
       "</div>"
      ],
      "text/plain": [
       "         borough  total_amount\n",
       "0       Brooklyn      96333.24\n",
       "1      Manhattan      92271.30\n",
       "2         Queens      79531.80\n",
       "3          Bronx      32830.09\n",
       "4  Staten Island        342.59"
      ]
     },
     "execution_count": 116,
     "metadata": {},
     "output_type": "execute_result"
    }
   ],
   "source": [
    "query_up_to_1 = f\"\"\"\n",
    "SELECT TZ.\"borough\", SUM(total_amount) AS total_amount\n",
    "FROM green_tripdata_2019_09 AS GTD\n",
    "INNER JOIN taxi_zones AS TZ ON GTD.\"PULocationID\" = TZ.\"LocationID\"\n",
    "WHERE GTD.\"lpep_pickup_datetime\" >= '2019-09-18 00:00:00'\n",
    "  AND GTD.\"lpep_pickup_datetime\" <= '2019-09-18 23:59:59'\n",
    "  AND (TZ.borough = 'Brooklyn'\n",
    "    OR TZ.borough = 'Manhattan'\n",
    "    OR TZ.borough = 'Queens'\n",
    "    OR TZ.borough = 'Bronx'\n",
    "    OR TZ.borough = 'Staten Island')\n",
    "GROUP BY TZ.\"borough\"\n",
    "ORDER BY SUM(total_amount) DESC\n",
    "\"\"\"\n",
    "# --\n",
    "\n",
    "pd.read_sql(query_up_to_1, engine)"
   ]
  },
  {
   "cell_type": "markdown",
   "metadata": {},
   "source": [
    "Answer to question 5 is \"Brooklyn\" \"Manhattan\" \"Queens\""
   ]
  },
  {
   "cell_type": "markdown",
   "metadata": {},
   "source": [
    "### Question 6. Largest tip\n",
    "For the passengers picked up in September 2019 in the zone name Astoria which was the drop off zone that had the largest tip? We want the name of the zone, not the id.\n",
    "\n",
    "Note: it's not a typo, it's tip , not trip\n",
    "\n",
    "Central Park\n",
    "Jamaica\n",
    "JFK Airport\n",
    "Long Island City/Queens Plaza"
   ]
  },
  {
   "cell_type": "code",
   "execution_count": null,
   "metadata": {},
   "outputs": [
    {
     "data": {
      "text/html": [
       "<div>\n",
       "<style scoped>\n",
       "    .dataframe tbody tr th:only-of-type {\n",
       "        vertical-align: middle;\n",
       "    }\n",
       "\n",
       "    .dataframe tbody tr th {\n",
       "        vertical-align: top;\n",
       "    }\n",
       "\n",
       "    .dataframe thead th {\n",
       "        text-align: right;\n",
       "    }\n",
       "</style>\n",
       "<table border=\"1\" class=\"dataframe\">\n",
       "  <thead>\n",
       "    <tr style=\"text-align: right;\">\n",
       "      <th></th>\n",
       "      <th>zone</th>\n",
       "      <th>LocationID</th>\n",
       "      <th>borough</th>\n",
       "    </tr>\n",
       "  </thead>\n",
       "  <tbody>\n",
       "    <tr>\n",
       "      <th>0</th>\n",
       "      <td>Astoria</td>\n",
       "      <td>7</td>\n",
       "      <td>Queens</td>\n",
       "    </tr>\n",
       "  </tbody>\n",
       "</table>\n",
       "</div>"
      ],
      "text/plain": [
       "      zone  LocationID borough\n",
       "0  Astoria           7  Queens"
      ]
     },
     "execution_count": 65,
     "metadata": {},
     "output_type": "execute_result"
    }
   ],
   "source": [
    "query_up_to_1 = f\"\"\"\n",
    "SELECT *\n",
    "FROM taxi_zones AS TZ\n",
    "WHERE TZ.\"zone\" = 'Astoria'\n",
    "LIMIT 10\n",
    "\"\"\"\n",
    "\n",
    "pd.read_sql(query_up_to_1, engine)"
   ]
  },
  {
   "cell_type": "code",
   "execution_count": null,
   "metadata": {},
   "outputs": [
    {
     "data": {
      "text/html": [
       "<div>\n",
       "<style scoped>\n",
       "    .dataframe tbody tr th:only-of-type {\n",
       "        vertical-align: middle;\n",
       "    }\n",
       "\n",
       "    .dataframe tbody tr th {\n",
       "        vertical-align: top;\n",
       "    }\n",
       "\n",
       "    .dataframe thead th {\n",
       "        text-align: right;\n",
       "    }\n",
       "</style>\n",
       "<table border=\"1\" class=\"dataframe\">\n",
       "  <thead>\n",
       "    <tr style=\"text-align: right;\">\n",
       "      <th></th>\n",
       "      <th>DOLocationID</th>\n",
       "    </tr>\n",
       "  </thead>\n",
       "  <tbody>\n",
       "    <tr>\n",
       "      <th>0</th>\n",
       "      <td>132</td>\n",
       "    </tr>\n",
       "  </tbody>\n",
       "</table>\n",
       "</div>"
      ],
      "text/plain": [
       "   DOLocationID\n",
       "0           132"
      ]
     },
     "execution_count": 84,
     "metadata": {},
     "output_type": "execute_result"
    }
   ],
   "source": [
    "query_up_to_1 = f\"\"\"\n",
    "SELECT GTD.\"DOLocationID\"\n",
    "FROM green_tripdata_2019_09 AS GTD\n",
    "INNER JOIN taxi_zones AS TZ ON GTD.\"PULocationID\" = TZ.\"LocationID\"\n",
    "WHERE TZ.\"zone\" = 'Astoria'\n",
    "ORDER BY GTD.\"tip_amount\" DESC\n",
    "LIMIT 1\n",
    "\"\"\"\n",
    "\n",
    "pd.read_sql(query_up_to_1, engine)"
   ]
  },
  {
   "cell_type": "code",
   "execution_count": null,
   "metadata": {},
   "outputs": [
    {
     "data": {
      "text/html": [
       "<div>\n",
       "<style scoped>\n",
       "    .dataframe tbody tr th:only-of-type {\n",
       "        vertical-align: middle;\n",
       "    }\n",
       "\n",
       "    .dataframe tbody tr th {\n",
       "        vertical-align: top;\n",
       "    }\n",
       "\n",
       "    .dataframe thead th {\n",
       "        text-align: right;\n",
       "    }\n",
       "</style>\n",
       "<table border=\"1\" class=\"dataframe\">\n",
       "  <thead>\n",
       "    <tr style=\"text-align: right;\">\n",
       "      <th></th>\n",
       "      <th>zone</th>\n",
       "    </tr>\n",
       "  </thead>\n",
       "  <tbody>\n",
       "    <tr>\n",
       "      <th>0</th>\n",
       "      <td>JFK Airport</td>\n",
       "    </tr>\n",
       "  </tbody>\n",
       "</table>\n",
       "</div>"
      ],
      "text/plain": [
       "          zone\n",
       "0  JFK Airport"
      ]
     },
     "execution_count": 88,
     "metadata": {},
     "output_type": "execute_result"
    }
   ],
   "source": [
    "query_up_to_1 = f\"\"\"\n",
    "WITH top_tip_location_id (location_id) AS (\n",
    "  SELECT GTD.\"DOLocationID\"\n",
    "  FROM green_tripdata_2019_09 AS GTD\n",
    "  INNER JOIN taxi_zones AS TZ ON GTD.\"PULocationID\" = TZ.\"LocationID\"\n",
    "  WHERE TZ.\"zone\" = 'Astoria'\n",
    "  ORDER BY GTD.\"tip_amount\" DESC\n",
    "  LIMIT 1\n",
    ")\n",
    "SELECT TZ.zone\n",
    "FROM taxi_zones AS TZ, top_tip_location_id AS TTLI\n",
    "WHERE TZ.\"LocationID\" = TTLI.\"location_id\"\n",
    "\"\"\"\n",
    "\n",
    "pd.read_sql(query_up_to_1, engine)"
   ]
  }
 ],
 "metadata": {
  "kernelspec": {
   "display_name": "Python 3 (ipykernel)",
   "language": "python",
   "name": "python3"
  },
  "language_info": {
   "codemirror_mode": {
    "name": "ipython",
    "version": 3
   },
   "file_extension": ".py",
   "mimetype": "text/x-python",
   "name": "python",
   "nbconvert_exporter": "python",
   "pygments_lexer": "ipython3",
   "version": "3.12.8"
  }
 },
 "nbformat": 4,
 "nbformat_minor": 2
}
